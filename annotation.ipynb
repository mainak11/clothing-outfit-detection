{
 "cells": [
  {
   "cell_type": "code",
   "execution_count": 1,
   "id": "0746e98b",
   "metadata": {},
   "outputs": [],
   "source": [
    "import pandas as pd\n",
    "import os"
   ]
  },
  {
   "cell_type": "code",
   "execution_count": 2,
   "id": "4c2dd1aa",
   "metadata": {},
   "outputs": [
    {
     "data": {
      "text/html": [
       "<div>\n",
       "<style scoped>\n",
       "    .dataframe tbody tr th:only-of-type {\n",
       "        vertical-align: middle;\n",
       "    }\n",
       "\n",
       "    .dataframe tbody tr th {\n",
       "        vertical-align: top;\n",
       "    }\n",
       "\n",
       "    .dataframe thead th {\n",
       "        text-align: right;\n",
       "    }\n",
       "</style>\n",
       "<table border=\"1\" class=\"dataframe\">\n",
       "  <thead>\n",
       "    <tr style=\"text-align: right;\">\n",
       "      <th></th>\n",
       "      <th>0</th>\n",
       "      <th>1</th>\n",
       "    </tr>\n",
       "  </thead>\n",
       "  <tbody>\n",
       "    <tr>\n",
       "      <th>0</th>\n",
       "      <td>/m/011k07</td>\n",
       "      <td>Tortoise</td>\n",
       "    </tr>\n",
       "    <tr>\n",
       "      <th>1</th>\n",
       "      <td>/m/011q46kg</td>\n",
       "      <td>Container</td>\n",
       "    </tr>\n",
       "    <tr>\n",
       "      <th>2</th>\n",
       "      <td>/m/012074</td>\n",
       "      <td>Magpie</td>\n",
       "    </tr>\n",
       "    <tr>\n",
       "      <th>3</th>\n",
       "      <td>/m/0120dh</td>\n",
       "      <td>Sea turtle</td>\n",
       "    </tr>\n",
       "    <tr>\n",
       "      <th>4</th>\n",
       "      <td>/m/01226z</td>\n",
       "      <td>Football</td>\n",
       "    </tr>\n",
       "  </tbody>\n",
       "</table>\n",
       "</div>"
      ],
      "text/plain": [
       "             0           1\n",
       "0    /m/011k07    Tortoise\n",
       "1  /m/011q46kg   Container\n",
       "2    /m/012074      Magpie\n",
       "3    /m/0120dh  Sea turtle\n",
       "4    /m/01226z    Football"
      ]
     },
     "execution_count": 2,
     "metadata": {},
     "output_type": "execute_result"
    }
   ],
   "source": [
    "classes_data= pd.read_csv('csv_folder/class-descriptions-boxable.csv',header=None)\n",
    "classes_data.head()"
   ]
  },
  {
   "cell_type": "code",
   "execution_count": 3,
   "id": "8029b0dd",
   "metadata": {},
   "outputs": [],
   "source": [
    "classes= ['Coat','Jeans','Shirt','Skirt','Miniskirt','Shorts', 'Watch', 'Hat','Dress']"
   ]
  },
  {
   "cell_type": "code",
   "execution_count": 4,
   "id": "65d3445b",
   "metadata": {},
   "outputs": [
    {
     "name": "stdout",
     "output_type": "stream",
     "text": [
      "/m/01xygc\n",
      "/m/0fly7\n",
      "/m/01n4qj\n",
      "/m/02wv6h6\n",
      "/m/01cmb2\n",
      "/m/01bfm9\n",
      "/m/0gjkl\n",
      "/m/02dl1y\n",
      "/m/01d40f\n",
      "['/m/01xygc', '/m/0fly7', '/m/01n4qj', '/m/02wv6h6', '/m/01cmb2', '/m/01bfm9', '/m/0gjkl', '/m/02dl1y', '/m/01d40f']\n"
     ]
    }
   ],
   "source": [
    "class_string=[]\n",
    "for i in classes:\n",
    "    req_data= classes_data.loc[classes_data[1] == i]\n",
    "    string= req_data.iloc[0][0]\n",
    "    print(string)\n",
    "    class_string.append(string)\n",
    "print(class_string)"
   ]
  },
  {
   "cell_type": "code",
   "execution_count": 5,
   "id": "772903ca",
   "metadata": {},
   "outputs": [
    {
     "data": {
      "text/html": [
       "<div>\n",
       "<style scoped>\n",
       "    .dataframe tbody tr th:only-of-type {\n",
       "        vertical-align: middle;\n",
       "    }\n",
       "\n",
       "    .dataframe tbody tr th {\n",
       "        vertical-align: top;\n",
       "    }\n",
       "\n",
       "    .dataframe thead th {\n",
       "        text-align: right;\n",
       "    }\n",
       "</style>\n",
       "<table border=\"1\" class=\"dataframe\">\n",
       "  <thead>\n",
       "    <tr style=\"text-align: right;\">\n",
       "      <th></th>\n",
       "      <th>ImageID</th>\n",
       "      <th>LabelName</th>\n",
       "      <th>XMin</th>\n",
       "      <th>XMax</th>\n",
       "      <th>YMin</th>\n",
       "      <th>YMax</th>\n",
       "    </tr>\n",
       "  </thead>\n",
       "  <tbody>\n",
       "    <tr>\n",
       "      <th>0</th>\n",
       "      <td>000002b66c9c498e</td>\n",
       "      <td>/m/01g317</td>\n",
       "      <td>0.012500</td>\n",
       "      <td>0.195312</td>\n",
       "      <td>0.148438</td>\n",
       "      <td>0.587500</td>\n",
       "    </tr>\n",
       "    <tr>\n",
       "      <th>1</th>\n",
       "      <td>000002b66c9c498e</td>\n",
       "      <td>/m/01g317</td>\n",
       "      <td>0.025000</td>\n",
       "      <td>0.276563</td>\n",
       "      <td>0.714063</td>\n",
       "      <td>0.948438</td>\n",
       "    </tr>\n",
       "    <tr>\n",
       "      <th>2</th>\n",
       "      <td>000002b66c9c498e</td>\n",
       "      <td>/m/01g317</td>\n",
       "      <td>0.151562</td>\n",
       "      <td>0.310937</td>\n",
       "      <td>0.198437</td>\n",
       "      <td>0.590625</td>\n",
       "    </tr>\n",
       "    <tr>\n",
       "      <th>3</th>\n",
       "      <td>000002b66c9c498e</td>\n",
       "      <td>/m/01g317</td>\n",
       "      <td>0.256250</td>\n",
       "      <td>0.429688</td>\n",
       "      <td>0.651563</td>\n",
       "      <td>0.925000</td>\n",
       "    </tr>\n",
       "    <tr>\n",
       "      <th>4</th>\n",
       "      <td>000002b66c9c498e</td>\n",
       "      <td>/m/01g317</td>\n",
       "      <td>0.257812</td>\n",
       "      <td>0.346875</td>\n",
       "      <td>0.235938</td>\n",
       "      <td>0.385938</td>\n",
       "    </tr>\n",
       "  </tbody>\n",
       "</table>\n",
       "</div>"
      ],
      "text/plain": [
       "            ImageID  LabelName      XMin      XMax      YMin      YMax\n",
       "0  000002b66c9c498e  /m/01g317  0.012500  0.195312  0.148438  0.587500\n",
       "1  000002b66c9c498e  /m/01g317  0.025000  0.276563  0.714063  0.948438\n",
       "2  000002b66c9c498e  /m/01g317  0.151562  0.310937  0.198437  0.590625\n",
       "3  000002b66c9c498e  /m/01g317  0.256250  0.429688  0.651563  0.925000\n",
       "4  000002b66c9c498e  /m/01g317  0.257812  0.346875  0.235938  0.385938"
      ]
     },
     "execution_count": 5,
     "metadata": {},
     "output_type": "execute_result"
    }
   ],
   "source": [
    "annotation_data=pd.read_csv('csv_folder/train-annotations-bbox.csv',usecols=['ImageID','LabelName','XMin','XMax','YMin','YMax'])\n",
    "annotation_data.head()"
   ]
  },
  {
   "cell_type": "code",
   "execution_count": 6,
   "id": "1e4ecc72",
   "metadata": {},
   "outputs": [
    {
     "data": {
      "text/html": [
       "<div>\n",
       "<style scoped>\n",
       "    .dataframe tbody tr th:only-of-type {\n",
       "        vertical-align: middle;\n",
       "    }\n",
       "\n",
       "    .dataframe tbody tr th {\n",
       "        vertical-align: top;\n",
       "    }\n",
       "\n",
       "    .dataframe thead th {\n",
       "        text-align: right;\n",
       "    }\n",
       "</style>\n",
       "<table border=\"1\" class=\"dataframe\">\n",
       "  <thead>\n",
       "    <tr style=\"text-align: right;\">\n",
       "      <th></th>\n",
       "      <th>ImageID</th>\n",
       "      <th>LabelName</th>\n",
       "      <th>XMin</th>\n",
       "      <th>XMax</th>\n",
       "      <th>YMin</th>\n",
       "      <th>YMax</th>\n",
       "    </tr>\n",
       "  </thead>\n",
       "  <tbody>\n",
       "    <tr>\n",
       "      <th>40</th>\n",
       "      <td>000004f4400f6ec5</td>\n",
       "      <td>/m/01n4qj</td>\n",
       "      <td>0.548125</td>\n",
       "      <td>0.740</td>\n",
       "      <td>0.413632</td>\n",
       "      <td>0.996265</td>\n",
       "    </tr>\n",
       "    <tr>\n",
       "      <th>135</th>\n",
       "      <td>00002b368e91b947</td>\n",
       "      <td>/m/01cmb2</td>\n",
       "      <td>0.095000</td>\n",
       "      <td>0.356</td>\n",
       "      <td>0.683121</td>\n",
       "      <td>0.998408</td>\n",
       "    </tr>\n",
       "    <tr>\n",
       "      <th>136</th>\n",
       "      <td>00002b368e91b947</td>\n",
       "      <td>/m/01cmb2</td>\n",
       "      <td>0.446000</td>\n",
       "      <td>0.658</td>\n",
       "      <td>0.622611</td>\n",
       "      <td>0.921975</td>\n",
       "    </tr>\n",
       "    <tr>\n",
       "      <th>137</th>\n",
       "      <td>00002b368e91b947</td>\n",
       "      <td>/m/01cmb2</td>\n",
       "      <td>0.454000</td>\n",
       "      <td>0.505</td>\n",
       "      <td>0.449045</td>\n",
       "      <td>0.592357</td>\n",
       "    </tr>\n",
       "    <tr>\n",
       "      <th>138</th>\n",
       "      <td>00002b368e91b947</td>\n",
       "      <td>/m/01cmb2</td>\n",
       "      <td>0.662000</td>\n",
       "      <td>0.782</td>\n",
       "      <td>0.515924</td>\n",
       "      <td>0.770701</td>\n",
       "    </tr>\n",
       "  </tbody>\n",
       "</table>\n",
       "</div>"
      ],
      "text/plain": [
       "              ImageID  LabelName      XMin   XMax      YMin      YMax\n",
       "40   000004f4400f6ec5  /m/01n4qj  0.548125  0.740  0.413632  0.996265\n",
       "135  00002b368e91b947  /m/01cmb2  0.095000  0.356  0.683121  0.998408\n",
       "136  00002b368e91b947  /m/01cmb2  0.446000  0.658  0.622611  0.921975\n",
       "137  00002b368e91b947  /m/01cmb2  0.454000  0.505  0.449045  0.592357\n",
       "138  00002b368e91b947  /m/01cmb2  0.662000  0.782  0.515924  0.770701"
      ]
     },
     "execution_count": 6,
     "metadata": {},
     "output_type": "execute_result"
    }
   ],
   "source": [
    "#get only data with matching classes\n",
    "filtered_class_data=annotation_data.loc[annotation_data['LabelName'].isin(class_string)].copy()\n",
    "filtered_class_data.head()"
   ]
  },
  {
   "cell_type": "code",
   "execution_count": 7,
   "id": "cd806c97",
   "metadata": {},
   "outputs": [],
   "source": [
    "filtered_class_data['ClassNumber']=''\n",
    "filtered_class_data['Center_X']=''\n",
    "filtered_class_data['Center_Y']=''\n",
    "filtered_class_data['Width']=''\n",
    "filtered_class_data['Height']=''\n"
   ]
  },
  {
   "cell_type": "code",
   "execution_count": 8,
   "id": "fdd8a90d",
   "metadata": {},
   "outputs": [],
   "source": [
    "for i in range(len(class_string)):\n",
    "    filtered_class_data.loc[filtered_class_data['LabelName']==class_string[i],'ClassNumber']=i"
   ]
  },
  {
   "cell_type": "code",
   "execution_count": 9,
   "id": "d0e1d064",
   "metadata": {},
   "outputs": [],
   "source": [
    "filtered_class_data['Center_X']=(filtered_class_data['XMax']+filtered_class_data['XMin'])/2\n",
    "filtered_class_data['Center_Y']=(filtered_class_data['YMax']+filtered_class_data['YMin'])/2"
   ]
  },
  {
   "cell_type": "code",
   "execution_count": 10,
   "id": "edc89e7c",
   "metadata": {},
   "outputs": [],
   "source": [
    "filtered_class_data['Width']=(filtered_class_data['XMax']-filtered_class_data['XMin'])\n",
    "filtered_class_data['Height']=(filtered_class_data['YMax']-filtered_class_data['YMin'])"
   ]
  },
  {
   "cell_type": "code",
   "execution_count": 11,
   "id": "3feba5d4",
   "metadata": {},
   "outputs": [],
   "source": [
    "Yolo_values=filtered_class_data.loc[:,['ImageID','ClassNumber','Center_X','Center_Y','Width','Height']].copy()"
   ]
  },
  {
   "cell_type": "code",
   "execution_count": 12,
   "id": "38a0d549",
   "metadata": {},
   "outputs": [
    {
     "data": {
      "text/html": [
       "<div>\n",
       "<style scoped>\n",
       "    .dataframe tbody tr th:only-of-type {\n",
       "        vertical-align: middle;\n",
       "    }\n",
       "\n",
       "    .dataframe tbody tr th {\n",
       "        vertical-align: top;\n",
       "    }\n",
       "\n",
       "    .dataframe thead th {\n",
       "        text-align: right;\n",
       "    }\n",
       "</style>\n",
       "<table border=\"1\" class=\"dataframe\">\n",
       "  <thead>\n",
       "    <tr style=\"text-align: right;\">\n",
       "      <th></th>\n",
       "      <th>ImageID</th>\n",
       "      <th>ClassNumber</th>\n",
       "      <th>Center_X</th>\n",
       "      <th>Center_Y</th>\n",
       "      <th>Width</th>\n",
       "      <th>Height</th>\n",
       "    </tr>\n",
       "  </thead>\n",
       "  <tbody>\n",
       "    <tr>\n",
       "      <th>40</th>\n",
       "      <td>000004f4400f6ec5</td>\n",
       "      <td>2</td>\n",
       "      <td>0.644062</td>\n",
       "      <td>0.704948</td>\n",
       "      <td>0.191875</td>\n",
       "      <td>0.582633</td>\n",
       "    </tr>\n",
       "    <tr>\n",
       "      <th>135</th>\n",
       "      <td>00002b368e91b947</td>\n",
       "      <td>4</td>\n",
       "      <td>0.225500</td>\n",
       "      <td>0.840764</td>\n",
       "      <td>0.261000</td>\n",
       "      <td>0.315287</td>\n",
       "    </tr>\n",
       "    <tr>\n",
       "      <th>136</th>\n",
       "      <td>00002b368e91b947</td>\n",
       "      <td>4</td>\n",
       "      <td>0.552000</td>\n",
       "      <td>0.772293</td>\n",
       "      <td>0.212000</td>\n",
       "      <td>0.299364</td>\n",
       "    </tr>\n",
       "    <tr>\n",
       "      <th>137</th>\n",
       "      <td>00002b368e91b947</td>\n",
       "      <td>4</td>\n",
       "      <td>0.479500</td>\n",
       "      <td>0.520701</td>\n",
       "      <td>0.051000</td>\n",
       "      <td>0.143312</td>\n",
       "    </tr>\n",
       "    <tr>\n",
       "      <th>138</th>\n",
       "      <td>00002b368e91b947</td>\n",
       "      <td>4</td>\n",
       "      <td>0.722000</td>\n",
       "      <td>0.643312</td>\n",
       "      <td>0.120000</td>\n",
       "      <td>0.254777</td>\n",
       "    </tr>\n",
       "  </tbody>\n",
       "</table>\n",
       "</div>"
      ],
      "text/plain": [
       "              ImageID ClassNumber  Center_X  Center_Y     Width    Height\n",
       "40   000004f4400f6ec5           2  0.644062  0.704948  0.191875  0.582633\n",
       "135  00002b368e91b947           4  0.225500  0.840764  0.261000  0.315287\n",
       "136  00002b368e91b947           4  0.552000  0.772293  0.212000  0.299364\n",
       "137  00002b368e91b947           4  0.479500  0.520701  0.051000  0.143312\n",
       "138  00002b368e91b947           4  0.722000  0.643312  0.120000  0.254777"
      ]
     },
     "execution_count": 12,
     "metadata": {},
     "output_type": "execute_result"
    }
   ],
   "source": [
    "Yolo_values.head()"
   ]
  },
  {
   "cell_type": "code",
   "execution_count": null,
   "id": "d1cdbb71",
   "metadata": {},
   "outputs": [],
   "source": []
  },
  {
   "cell_type": "code",
   "execution_count": 15,
   "id": "f7cd343a",
   "metadata": {},
   "outputs": [],
   "source": [
    "image_path='Dataset/train/All_dataset/'\n",
    "#os.mkdir(image_path)"
   ]
  },
  {
   "cell_type": "code",
   "execution_count": 16,
   "id": "d79ec150",
   "metadata": {},
   "outputs": [],
   "source": [
    "for current_dir,dirs,files in os.walk('.'):\n",
    "    for f in files:\n",
    "        if f.endswith('.jpg'):\n",
    "            image_title=f[:-4]\n",
    "            Yolo_file=Yolo_values.loc[Yolo_values['ImageID']==image_title]\n",
    "            df=Yolo_file.loc[:,['ClassNumber','Center_X','Center_Y','Width','Height']].copy()\n",
    "            save_path= image_path + '/'+image_title+'.txt'\n",
    "            #print(df.values)\n",
    "            df.to_csv(save_path,header=False,index=False,sep=' ')\n",
    "            "
   ]
  },
  {
   "cell_type": "markdown",
   "id": "3d926568",
   "metadata": {},
   "source": [
    "with open('readme.txt', 'x') as f:\n",
    "    f.write( )\n",
    "    Yolo_values.iloc[40].to_csv(\"readme.txt\",header=False,index=False,sep=' ')\n",
    "    f.close()\n",
    "    "
   ]
  },
  {
   "cell_type": "code",
   "execution_count": null,
   "id": "43115998",
   "metadata": {},
   "outputs": [],
   "source": [
    "Yolo_values.iloc[40].to_csv(\"readme.txt\",header=False,index=False,sep=' ')\n"
   ]
  },
  {
   "cell_type": "markdown",
   "id": "a8047ae9",
   "metadata": {},
   "source": []
  }
 ],
 "metadata": {
  "kernelspec": {
   "display_name": "Python 3 (ipykernel)",
   "language": "python",
   "name": "python3"
  },
  "language_info": {
   "codemirror_mode": {
    "name": "ipython",
    "version": 3
   },
   "file_extension": ".py",
   "mimetype": "text/x-python",
   "name": "python",
   "nbconvert_exporter": "python",
   "pygments_lexer": "ipython3",
   "version": "3.9.7"
  }
 },
 "nbformat": 4,
 "nbformat_minor": 5
}
